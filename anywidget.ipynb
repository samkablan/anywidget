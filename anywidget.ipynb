{
  "metadata": {
    "kernelspec": {
      "name": "python",
      "display_name": "Python (Pyodide)",
      "language": "python"
    },
    "language_info": {
      "codemirror_mode": {
        "name": "python",
        "version": 3
      },
      "file_extension": ".py",
      "mimetype": "text/x-python",
      "name": "python",
      "nbconvert_exporter": "python",
      "pygments_lexer": "ipython3",
      "version": "3.8"
    }
  },
  "nbformat_minor": 5,
  "nbformat": 4,
  "cells": [
    {
      "id": "7db8bf41-e6d0-4e48-861f-f31da27fdfea",
      "cell_type": "code",
      "source": "import * as d3 from \"https://esm.sh/d3@7\";\n\n/** @param {{ model: DOMWidgetModel, el: HTMLElement }} context */\nfunction render({ model, el }) {\n\tlet selection = d3.select(el);\n\t/* ... */\n}\nexport default { render };",
      "metadata": {
        "trusted": true
      },
      "outputs": [
        {
          "ename": "<class 'SyntaxError'>",
          "evalue": "invalid syntax (<ipython-input-6-3ca1198cca8b>, line 1)",
          "traceback": [
            "\u001b[0;36m  Cell \u001b[0;32mIn[6], line 1\u001b[0;36m\u001b[0m\n\u001b[0;31m    import * as d3 from \"https://esm.sh/d3@7\";\u001b[0m\n\u001b[0m           ^\u001b[0m\n\u001b[0;31mSyntaxError\u001b[0m\u001b[0;31m:\u001b[0m invalid syntax\n"
          ],
          "output_type": "error"
        }
      ],
      "execution_count": 6
    },
    {
      "id": "f0e742fa-276a-4a20-aa5e-00a09a089902",
      "cell_type": "code",
      "source": "",
      "metadata": {
        "trusted": true
      },
      "outputs": [],
      "execution_count": null
    }
  ]
}